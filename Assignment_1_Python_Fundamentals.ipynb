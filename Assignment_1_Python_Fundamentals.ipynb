{
  "nbformat": 4,
  "nbformat_minor": 0,
  "metadata": {
    "colab": {
      "provenance": []
    },
    "kernelspec": {
      "name": "python3",
      "display_name": "Python 3"
    },
    "language_info": {
      "name": "python"
    }
  },
  "cells": [
    {
      "cell_type": "markdown",
      "source": [
        "1 Write Python code that prints your name, student number and email address. **bold text**"
      ],
      "metadata": {
        "id": "D57BetQpkxWy"
      }
    },
    {
      "cell_type": "code",
      "source": [
        "print(\"Sibin Francis\")\n",
        "print('DSML43-52')\n",
        "print('sibinfrancis009@gmail.com')"
      ],
      "metadata": {
        "colab": {
          "base_uri": "https://localhost:8080/"
        },
        "id": "XY69rX2QkqJk",
        "outputId": "b4b606db-5088-4ccb-92a6-a14e165dcf8c"
      },
      "execution_count": 3,
      "outputs": [
        {
          "output_type": "stream",
          "name": "stdout",
          "text": [
            "Sibin Francis\n",
            "DSML43-52\n",
            "sibinfrancis009@gmail.com\n"
          ]
        }
      ]
    },
    {
      "cell_type": "markdown",
      "source": [
        "2 Write Python code that prints your name, student number and email address using escape sequences."
      ],
      "metadata": {
        "id": "1y9uAhJTmXgQ"
      }
    },
    {
      "cell_type": "code",
      "source": [
        "print(\"Sibin Francis\\nDSML43-52\\nsibinfrancis009@gmail.com\")"
      ],
      "metadata": {
        "colab": {
          "base_uri": "https://localhost:8080/"
        },
        "id": "X0dRKV2Cmf9X",
        "outputId": "de177e8b-ca61-426d-a4d3-706d6a716f27"
      },
      "execution_count": 4,
      "outputs": [
        {
          "output_type": "stream",
          "name": "stdout",
          "text": [
            "Sibin Francis\n",
            "DSML43-52\n",
            "sibinfrancis009@gmail.com\n"
          ]
        }
      ]
    },
    {
      "cell_type": "markdown",
      "source": [
        "3 Write Python code that add, subtract, multiply and divide the two numbers. You can use the two numbers 14 and 7."
      ],
      "metadata": {
        "id": "0m6EewL4nR2j"
      }
    },
    {
      "cell_type": "code",
      "source": [
        "a=14\n",
        "b=7\n",
        "print('14 + 7 =', a+b)\n",
        "print('14 * 7 =', a*b)\n",
        "print('14 - 7 =', a-b)\n",
        "print('14 / 7 =', a/b)"
      ],
      "metadata": {
        "colab": {
          "base_uri": "https://localhost:8080/"
        },
        "id": "ToBY3jiBnY-L",
        "outputId": "d0c1df34-01c8-44a3-e1dd-c7d8ff115f55"
      },
      "execution_count": 11,
      "outputs": [
        {
          "output_type": "stream",
          "name": "stdout",
          "text": [
            "14 + 7 = 21\n",
            "14 * 7 = 98\n",
            "14 - 7 = 7\n",
            "14 / 7 = 2.0\n"
          ]
        }
      ]
    },
    {
      "cell_type": "markdown",
      "source": [
        "4 Write Python code that displays the numbers from 1 to 5 as steps.\n"
      ],
      "metadata": {
        "id": "Bkrc2Kg8olNL"
      }
    },
    {
      "cell_type": "code",
      "source": [
        "for i in range(1,6):\n",
        "  print(i)"
      ],
      "metadata": {
        "colab": {
          "base_uri": "https://localhost:8080/"
        },
        "id": "FykDgxmyotcj",
        "outputId": "74751972-a62a-4693-e6ce-f9c3441ea52f"
      },
      "execution_count": 12,
      "outputs": [
        {
          "output_type": "stream",
          "name": "stdout",
          "text": [
            "1\n",
            "2\n",
            "3\n",
            "4\n",
            "5\n"
          ]
        }
      ]
    },
    {
      "cell_type": "markdown",
      "source": [
        "5 Write Python code that outputs the following sentence"
      ],
      "metadata": {
        "id": "c3abCHURpOcW"
      }
    },
    {
      "cell_type": "code",
      "source": [
        "print('\"SDK\" stands for \"Software Development Kit\",\\nwhereas\\n\"IDE\" stands for \"Integrated Development Environment\". ')"
      ],
      "metadata": {
        "colab": {
          "base_uri": "https://localhost:8080/"
        },
        "id": "7cKX19QbpVsF",
        "outputId": "8906d786-7ff7-47f3-9169-009b56864ecb"
      },
      "execution_count": 16,
      "outputs": [
        {
          "output_type": "stream",
          "name": "stdout",
          "text": [
            "\"SDK\" stands for \"Software Development Kit\",\n",
            "whereas\n",
            "\"IDE\" stands for \"Integrated Development Environment\". \n"
          ]
        }
      ]
    },
    {
      "cell_type": "markdown",
      "source": [
        "6 Practice and check the output\n"
      ],
      "metadata": {
        "id": "N_3jiUQQqHSu"
      }
    },
    {
      "cell_type": "code",
      "source": [
        "print(\"python is an \\\"awesome\\\" language.\")\n",
        "print(\"python\\n\\t2023\")\n",
        "print('I\\'m from Entri.\\b')\n",
        "print(\"\\65\")\n",
        "print(\"\\x65\")\n",
        "print(\"Entri\", \"2023\", sep=\"\\n\")\n",
        "print(\"Entri\", \"2023\", sep=\"\\b\")\n",
        "print(\"Entri\", \"2023\", sep=\"*\", end=\"\\b\\b\\b\\b\")"
      ],
      "metadata": {
        "colab": {
          "base_uri": "https://localhost:8080/"
        },
        "id": "m-99DA_eqLlu",
        "outputId": "c1bb4376-4bb3-4da0-9846-d55d8c313287"
      },
      "execution_count": 17,
      "outputs": [
        {
          "output_type": "stream",
          "name": "stdout",
          "text": [
            "python is an \"awesome\" language.\n",
            "python\n",
            "\t2023\n",
            "I'm from Entri.\b\n",
            "5\n",
            "e\n",
            "Entri\n",
            "2023\n",
            "Entri\b2023\n",
            "Entri*2023\b\b\b\b"
          ]
        }
      ]
    },
    {
      "cell_type": "markdown",
      "source": [
        "7 Define the variables below. Print the types of each variable. What is the sum of your variables? What datatype is the sum?"
      ],
      "metadata": {
        "id": "glOJuSIFszH1"
      }
    },
    {
      "cell_type": "code",
      "source": [
        "num=23\n",
        "textnum=\"57\"\n",
        "decimal=98.3"
      ],
      "metadata": {
        "id": "PuPl5429s4-2"
      },
      "execution_count": 26,
      "outputs": []
    },
    {
      "cell_type": "code",
      "source": [
        "# Finding the types\n",
        "print(type(num))\n",
        "print(type(textnum))\n",
        "print(type(decimal))"
      ],
      "metadata": {
        "colab": {
          "base_uri": "https://localhost:8080/"
        },
        "id": "6TCiecMJtZAd",
        "outputId": "7814c0cb-1cfc-4629-d224-c70d2cf6ee00"
      },
      "execution_count": 27,
      "outputs": [
        {
          "output_type": "stream",
          "name": "stdout",
          "text": [
            "<class 'int'>\n",
            "<class 'str'>\n",
            "<class 'float'>\n"
          ]
        }
      ]
    },
    {
      "cell_type": "code",
      "source": [
        "sum = num + int(textnum) + decimal\n",
        "print('The sum of the variables = ',sum)"
      ],
      "metadata": {
        "colab": {
          "base_uri": "https://localhost:8080/"
        },
        "id": "9GZ_J-6rtnkk",
        "outputId": "12d5cc04-4fd0-4d42-af03-7f94a448cf7e"
      },
      "execution_count": 28,
      "outputs": [
        {
          "output_type": "stream",
          "name": "stdout",
          "text": [
            "The sum of the variables =  178.3\n"
          ]
        }
      ]
    },
    {
      "cell_type": "code",
      "source": [
        "print('The datatype of sum = ',type(sum))"
      ],
      "metadata": {
        "colab": {
          "base_uri": "https://localhost:8080/"
        },
        "id": "7sU0q5wjuYmF",
        "outputId": "775be6b4-e235-4051-ca6e-8f2077f50a3d"
      },
      "execution_count": 30,
      "outputs": [
        {
          "output_type": "stream",
          "name": "stdout",
          "text": [
            "The datatype of sum =  <class 'float'>\n"
          ]
        }
      ]
    },
    {
      "cell_type": "markdown",
      "source": [
        "8 calculate the number of minutes in a year using variables for each unit of time. print a statement that describes what your code does also. Create three variables to store no of days in a year, minute in a hour, hours in a day, then calculate the total minutes in a year and print the values\n",
        "total number of minutes in an year =No.of days in an year * Hours in a day * Minutes in an hour"
      ],
      "metadata": {
        "id": "1NaiBpsSu34O"
      }
    },
    {
      "cell_type": "code",
      "source": [
        "no_of_days_in_a_year =365\n",
        "hours_in_a_day = 24\n",
        "minute_in_a_hour = 60"
      ],
      "metadata": {
        "id": "--VnfMwZu8-D"
      },
      "execution_count": 32,
      "outputs": []
    },
    {
      "cell_type": "code",
      "source": [
        "total_minutes_in_a_year = no_of_days_in_a_year * hours_in_a_day * minute_in_a_hour\n",
        "print(\"The total number of minutes in a year =\",total_minutes_in_a_year)"
      ],
      "metadata": {
        "colab": {
          "base_uri": "https://localhost:8080/"
        },
        "id": "1KeVzhzev7fY",
        "outputId": "135f8594-11b7-4ffe-e4df-efbd8ed474bf"
      },
      "execution_count": 34,
      "outputs": [
        {
          "output_type": "stream",
          "name": "stdout",
          "text": [
            "The total number of minutes in a year = 525600\n"
          ]
        }
      ]
    },
    {
      "cell_type": "markdown",
      "source": [
        "9 Write Python code that asks the user to enter his/her name and then output/prints his/her name with a greeting."
      ],
      "metadata": {
        "id": "iLaXi4xbwfRE"
      }
    },
    {
      "cell_type": "code",
      "source": [
        "i = input('Please enter your name : ')\n",
        "print(f'Hi {i}, welcome to Python programming :)')"
      ],
      "metadata": {
        "colab": {
          "base_uri": "https://localhost:8080/"
        },
        "id": "ui-t8Beswj91",
        "outputId": "936b46ea-538f-4336-af80-77475314027a"
      },
      "execution_count": 43,
      "outputs": [
        {
          "output_type": "stream",
          "name": "stdout",
          "text": [
            "Please enter your name : Sooraj\n",
            "Hi Sooraj, welcome to Python programming :)\n"
          ]
        }
      ]
    }
  ]
}