{
  "nbformat": 4,
  "nbformat_minor": 0,
  "metadata": {
    "colab": {
      "provenance": []
    },
    "kernelspec": {
      "name": "python3",
      "display_name": "Python 3"
    },
    "language_info": {
      "name": "python"
    }
  },
  "cells": [
    {
      "cell_type": "markdown",
      "source": [
        "10 Write a program that asks the user to enter an amount in pounds (£) and the program calculates and converts an amount in dollar ($)\n",
        "\n"
      ],
      "metadata": {
        "id": "PDPuoHLcz2dZ"
      }
    },
    {
      "cell_type": "code",
      "source": [
        "pounds = float(input('Enter the amount in pounds :'))\n",
        "conversion = 1.23\n",
        "dollars = pounds *conversion\n",
        "\n",
        "print(f' £ {pounds} are $ {dollars}')\n",
        "\n"
      ],
      "metadata": {
        "colab": {
          "base_uri": "https://localhost:8080/"
        },
        "id": "5wB9zq-yz322",
        "outputId": "88b26c04-8b25-4cbe-96dc-77deb97664d4"
      },
      "execution_count": 2,
      "outputs": [
        {
          "output_type": "stream",
          "name": "stdout",
          "text": [
            "Enter the amount in pounds :200\n",
            " £ 200.0 are $ 246.0\n"
          ]
        }
      ]
    }
  ]
}